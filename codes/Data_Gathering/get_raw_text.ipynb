{
 "cells": [
  {
   "cell_type": "code",
   "execution_count": 11,
   "id": "ad687e19",
   "metadata": {},
   "outputs": [],
   "source": [
    "import pandas as pd\n",
    "import matplotlib.pyplot as plt\n",
    "import json\n",
    "import csv\n",
    "import os\n",
    "import time\n",
    "import requests\n",
    "from tqdm import tqdm\n",
    "\n",
    "import tweepy\n",
    "\n",
    "import collections\n",
    "from langdetect import detect\n",
    "import nltk\n",
    "import string \n",
    "from nltk.stem import WordNetLemmatizer\n",
    "from nltk.stem import PorterStemmer\n",
    "from nltk.sentiment import SentimentIntensityAnalyzer\n",
    "from sklearn.feature_extraction.text import CountVectorizer\n",
    "\n",
    "from nltk.corpus import stopwords\n",
    "stop_words=nltk.corpus.stopwords.words('english')\n",
    "\n",
    "f = open(\"api-keys.json\")\n",
    "input=json.load(f)"
   ]
  },
  {
   "cell_type": "code",
   "execution_count": 12,
   "id": "a0ec0f9b",
   "metadata": {},
   "outputs": [],
   "source": [
    "consumer_key=input[\"consumer_key\"]    \n",
    "consumer_secret=input[\"consumer_secret\"]    \n",
    "access_token=input[\"access_token\"]    \n",
    "access_token_secret=input[\"access_token_secret\"]    \n",
    "bearer_token=input[\"bearer_token\"]    "
   ]
  },
  {
   "cell_type": "code",
   "execution_count": 13,
   "id": "209e7b09",
   "metadata": {},
   "outputs": [
    {
     "name": "stdout",
     "output_type": "stream",
     "text": [
      "<tweepy.api.API object at 0x000001658CF739A0>\n",
      "monk_digi\n"
     ]
    }
   ],
   "source": [
    "auth = tweepy.OAuthHandler(consumer_key,consumer_secret)\n",
    "auth.set_access_token(access_token,access_token_secret)\n",
    "\n",
    "api = tweepy.API(auth)\n",
    "headers = {\"Authorization\": \"Bearer {}\".format(bearer_token)}\n",
    "print(api)\n",
    "print(api.verify_credentials().screen_name)"
   ]
  },
  {
   "cell_type": "code",
   "execution_count": 14,
   "id": "35270b41",
   "metadata": {},
   "outputs": [],
   "source": [
    "def search_more(query,tweets_num):\n",
    "    num_tweets_collected=0\n",
    "    searches=[]\n",
    "    while num_tweets_collected<tweets_num:\n",
    "        if len(searches)==0:\n",
    "            search_results = api.search_tweets(query,lang=\"en\", count=200)\n",
    "        else:\n",
    "            search_results = api.search_tweets(query,lang=\"en\", count=200, max_id=max_id_next)\n",
    "        num_tweets_collected+=len(search_results)\n",
    "        max_id_next=int(search_results[-1]._json[\"id_str\"])-1\n",
    "\n",
    "        for i in range(len(search_results)):\n",
    "            searches.append(search_results[i])\n",
    "    return(searches)"
   ]
  },
  {
   "cell_type": "code",
   "execution_count": 15,
   "id": "37d5f085",
   "metadata": {},
   "outputs": [],
   "source": [
    "def to_list(search):\n",
    "    texts=[]\n",
    "    for i in range(len(search)):\n",
    "        texts.append(search[i]._json[\"text\"])\n",
    "    return texts"
   ]
  },
  {
   "cell_type": "code",
   "execution_count": 16,
   "id": "fcb04a4e",
   "metadata": {},
   "outputs": [],
   "source": [
    "search1 = search_more(\"girls, schools\", 1200)\n",
    "search_list1 = list(set(to_list(search1)))"
   ]
  },
  {
   "cell_type": "code",
   "execution_count": 17,
   "id": "4dece2d1",
   "metadata": {},
   "outputs": [],
   "source": [
    "search2 = search_more(\"girls, education\", 2000)\n",
    "search_list2 = list(set(to_list(search2)))"
   ]
  },
  {
   "cell_type": "code",
   "execution_count": 18,
   "id": "a66d0815",
   "metadata": {},
   "outputs": [],
   "source": [
    "df1 = pd.DataFrame(search_list1)\n",
    "df2 = pd.DataFrame(search_list2)"
   ]
  },
  {
   "cell_type": "code",
   "execution_count": 19,
   "id": "15c6f967",
   "metadata": {},
   "outputs": [],
   "source": [
    "df1.to_csv('raw_text1.csv',index=False)\n",
    "df2.to_csv('raw_text2.csv',index=False)"
   ]
  }
 ],
 "metadata": {
  "kernelspec": {
   "display_name": "ANLY501",
   "language": "python",
   "name": "python3"
  },
  "language_info": {
   "codemirror_mode": {
    "name": "ipython",
    "version": 3
   },
   "file_extension": ".py",
   "mimetype": "text/x-python",
   "name": "python",
   "nbconvert_exporter": "python",
   "pygments_lexer": "ipython3",
   "version": "3.10.4"
  },
  "vscode": {
   "interpreter": {
    "hash": "eb378c55017095c06cf47ffd1f869b8ab13f515a87657e5fcb511e0d7517fdec"
   }
  }
 },
 "nbformat": 4,
 "nbformat_minor": 5
}
