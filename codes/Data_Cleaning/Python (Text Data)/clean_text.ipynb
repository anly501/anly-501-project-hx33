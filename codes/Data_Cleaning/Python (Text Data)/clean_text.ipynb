{
 "cells": [
  {
   "cell_type": "code",
   "execution_count": 3,
   "metadata": {},
   "outputs": [],
   "source": [
    "import pandas as pd\n",
    "import numpy as np\n",
    "import matplotlib.pyplot as plt\n",
    "import json\n",
    "import csv\n",
    "import os\n",
    "import time\n",
    "import requests\n",
    "from tqdm import tqdm\n",
    "\n",
    "import tweepy\n",
    "\n",
    "import collections"
   ]
  },
  {
   "cell_type": "code",
   "execution_count": 4,
   "metadata": {},
   "outputs": [
    {
     "name": "stdout",
     "output_type": "stream",
     "text": [
      "(679, 1) (611, 1)\n"
     ]
    }
   ],
   "source": [
    "df1 = pd.read_csv(\"raw_text1.csv\")\n",
    "df2 = pd.read_csv(\"raw_text2.csv\")\n",
    "\n",
    "print(df1.shape, df2.shape)"
   ]
  },
  {
   "cell_type": "code",
   "execution_count": 14,
   "metadata": {},
   "outputs": [],
   "source": [
    "def clean1(text):\n",
    "\n",
    "    # remove links first\n",
    "    text = \"\".join(text.partition(\"https://\")[:1])\n",
    "\n",
    "    text = text.replace(\"RT @\", \" \")\n",
    "\n",
    "    keep = \" 0123456789qwertyuiopasdfghjklzxcvbnm\"\n",
    "    cleaned = \"\"\n",
    "    for i in text:\n",
    "        if i.lower() in keep:\n",
    "            cleaned += i.lower()\n",
    "        if i.lower() not in keep:\n",
    "            cleaned += \" \"\n",
    "    \n",
    "    text = cleaned\n",
    "    \n",
    "    return text"
   ]
  },
  {
   "cell_type": "code",
   "execution_count": 15,
   "metadata": {},
   "outputs": [],
   "source": [
    "t1 = list(df1.iloc[:,0])\n",
    "t2 = list(df2.iloc[:,0])\n",
    "\n",
    "for i in range(len(df1)):\n",
    "    t1[i] = clean1(t1[i])\n",
    "for i in range(len(df2)):\n",
    "    t2[i] = clean1(t2[i])\n",
    "\n",
    "cleaned1 = []\n",
    "for i in range(len(t1)):\n",
    "    cleaned1.append([t1[i], \"school\"])\n",
    "cleaned_school = pd.DataFrame(cleaned1)\n",
    "cleaned_school = cleaned_school.rename({\"0\":\"text\", \"1\":\"label\"})\n",
    "\n",
    "cleaned2 = []\n",
    "for i in range(len(t2)):\n",
    "    cleaned2.append([t2[i], \"education\"])\n",
    "cleaned_edu = pd.DataFrame(cleaned2)\n",
    "cleaned_edu = cleaned_edu.rename({\"0\":\"text\", \"1\":\"label\"})\n",
    "\n",
    "cleaned = pd.concat([cleaned_school, cleaned_edu])\n",
    "cleaned.to_csv(\"cleaned_text.csv\", index=False)\n"
   ]
  },
  {
   "cell_type": "code",
   "execution_count": 16,
   "metadata": {},
   "outputs": [],
   "source": [
    "# from wordcloud import WordCloud as wc\n",
    "\n",
    "# words = []\n",
    "# for i in cleaned_edu.iloc[:,0]:\n",
    "#     for j in i.split(\" \"):\n",
    "#         if len(j) > 1:\n",
    "#             words.append(j)\n",
    "\n",
    "# word_cloud = wc(collocations = False, background_color = \"white\").generate(\" \".join(words))\n",
    "# plt.imshow(word_cloud, interpolation=\"bilinear\")\n",
    "# plt.axis(\"off\")"
   ]
  }
 ],
 "metadata": {
  "kernelspec": {
   "display_name": "ANLY501",
   "language": "python",
   "name": "python3"
  },
  "language_info": {
   "codemirror_mode": {
    "name": "ipython",
    "version": 3
   },
   "file_extension": ".py",
   "mimetype": "text/x-python",
   "name": "python",
   "nbconvert_exporter": "python",
   "pygments_lexer": "ipython3",
   "version": "3.10.4 | packaged by conda-forge | (main, Mar 30 2022, 08:38:02) [MSC v.1916 64 bit (AMD64)]"
  },
  "orig_nbformat": 4,
  "vscode": {
   "interpreter": {
    "hash": "eb378c55017095c06cf47ffd1f869b8ab13f515a87657e5fcb511e0d7517fdec"
   }
  }
 },
 "nbformat": 4,
 "nbformat_minor": 2
}
